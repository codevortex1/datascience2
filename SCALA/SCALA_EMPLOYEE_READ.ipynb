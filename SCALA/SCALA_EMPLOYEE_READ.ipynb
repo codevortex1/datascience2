{
 "cells": [
  {
   "cell_type": "code",
   "execution_count": null,
   "id": "c20512d1-caf7-466c-b445-59af747a33e0",
   "metadata": {},
   "outputs": [],
   "source": [
    "val df1 = spark.read.options(Map(\"inferSchema\"->\"true\",\"delimiter\"->\",\",\"header\"->\"true\"))\n",
    ".csv(\"/data/informatica/shared/employee/EMPLOYEE.csv\")\n",
    "//df1.printSchema()\n",
    "df1.show(2,false)\n",
    "df1.createOrReplaceTempView(\"employee\")\n",
    "//df1.withColumn(\"D\", lit(750)).withColumn(\"E\", lit(750)).show(2,false)\n"
   ]
  },
  {
   "cell_type": "code",
   "execution_count": null,
   "id": "af74891e-65ec-4e98-9e27-2c2f45b6fc2a",
   "metadata": {},
   "outputs": [],
   "source": [
    "spark.udf.register(\"Stringlength\", (x: String) => x.length())\n",
    "spark.sql(\"SELECT employee.*,Stringlength(first_name) as len_first_name from employee where id =1\").show\n",
    "\n"
   ]
  },
  {
   "cell_type": "code",
   "execution_count": null,
   "id": "8e5ac0a0-12d2-4294-b0a1-a339bff46be6",
   "metadata": {},
   "outputs": [],
   "source": []
  }
 ],
 "metadata": {
  "kernelspec": {
   "display_name": "spylon-kernel",
   "language": "scala",
   "name": "spylon-kernel"
  },
  "language_info": {
   "codemirror_mode": "text/x-scala",
   "file_extension": ".scala",
   "help_links": [
    {
     "text": "MetaKernel Magics",
     "url": "https://metakernel.readthedocs.io/en/latest/source/README.html"
    }
   ],
   "mimetype": "text/x-scala",
   "name": "scala",
   "pygments_lexer": "scala",
   "version": "0.4.1"
  }
 },
 "nbformat": 4,
 "nbformat_minor": 5
}
