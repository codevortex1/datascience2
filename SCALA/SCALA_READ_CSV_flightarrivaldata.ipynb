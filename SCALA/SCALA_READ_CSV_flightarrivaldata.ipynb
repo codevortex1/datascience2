{
 "cells": [
  {
   "cell_type": "code",
   "execution_count": null,
   "id": "d049c324-5fdf-40ee-914e-26bb6ed61da6",
   "metadata": {},
   "outputs": [],
   "source": [
    "###Read csv file using scala . Print schema and Print first 2 records"
   ]
  },
  {
   "cell_type": "code",
   "execution_count": null,
   "id": "f58d364c",
   "metadata": {},
   "outputs": [],
   "source": [
    "val df1 = spark.read.options(Map(\"inferSchema\"->\"true\",\"delimiter\"->\",\",\"header\"->\"true\"))\n",
    ".csv(\"/data/informatica/shared/filghtontimedata/plane_data.txt\")\n",
    "df1.printSchema()\n",
    "df1.show(2)\n",
    "df1.createOrReplaceTempView(\"flightarrivaldata\") "
   ]
  },
  {
   "cell_type": "markdown",
   "id": "04e2ff30",
   "metadata": {},
   "source": [
    "###Read csv file using scala . group by column Airline--> sum a column-->Order by column Airline"
   ]
  },
  {
   "cell_type": "code",
   "execution_count": null,
   "id": "23a337a4-9adb-421b-a464-f339512e3d7a",
   "metadata": {},
   "outputs": [],
   "source": [
    "//df1.withColumn(\"CRSDepTime2\",to_timestamp(concat(Year,LPAD(Month,2,'0'),LPAD(DayofMonth,2,'0'),LPAD(CRSDepTime,4,'0')),\"yyyyMMddHHmm\") as CRSDepTime2).show(2)\n",
    "//spark.sql(\"select UniqueCarrier,FlightNum,Year,Month,DayofMonth,DepTime,CRSDepTime,TO_DATE(concat(Year,LPAD(Month,2,'0'),LPAD(DayofMonth,2,'0'),LPAD(DepTime,4,'0')),'yyyyMMddHHmm') as DepTime from flightarrivaldata\").show(2,false)\n",
    "spark.sql(\"select UniqueCarrier,FlightNum,to_timestamp(concat(Year,LPAD(Month,2,'0'),LPAD(DayofMonth,2,'0'),LPAD(CRSDepTime,4,'0')),'yyyyMMddHHmm') as CRSDepTime,to_timestamp(concat(Year,LPAD(Month,2,'0'),LPAD(DayofMonth,2,'0'),LPAD(DepTime,4,'0')),'yyyyMMddHHmm') as DepTime from flightarrivaldata\").show(2,false)\n",
    "\n"
   ]
  },
  {
   "cell_type": "code",
   "execution_count": null,
   "id": "f81c3e09-9cf2-4554-8c84-a375279d5ac9",
   "metadata": {},
   "outputs": [],
   "source": []
  }
 ],
 "metadata": {
  "kernelspec": {
   "display_name": "spylon-kernel",
   "language": "scala",
   "name": "spylon-kernel"
  },
  "language_info": {
   "codemirror_mode": "text/x-scala",
   "file_extension": ".scala",
   "help_links": [
    {
     "text": "MetaKernel Magics",
     "url": "https://metakernel.readthedocs.io/en/latest/source/README.html"
    }
   ],
   "mimetype": "text/x-scala",
   "name": "scala",
   "pygments_lexer": "scala",
   "version": "0.4.1"
  }
 },
 "nbformat": 4,
 "nbformat_minor": 5
}
