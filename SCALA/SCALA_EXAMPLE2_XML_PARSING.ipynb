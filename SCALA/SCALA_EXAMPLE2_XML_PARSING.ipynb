{
 "cells": [
  {
   "cell_type": "markdown",
   "id": "7a651121",
   "metadata": {},
   "source": [
    "## Documentation\n",
    "https://spark.apache.org/docs/latest/sql-data-sources-json.html\n",
    "\n",
    "### Print the schema\n",
    "baby.printSchema()\n",
    "\n",
    "val babydf2 = spark.sql(\"SELECT data FROM babyname\")\n",
    "babydf2.show()\n",
    "\n",
    "### UDF\n",
    "spark.udf.register(\"strlen\", (s: String) => s.length)\n",
    "spark.udf.register(\"squared1\", (s: Long) => s*s)\n",
    "spark.range(1, 20).createOrReplaceTempView(\"test\")\n",
    "spark.sql(\"select id, squared1(id) as id_squared from test\").show()"
   ]
  },
  {
   "cell_type": "code",
   "execution_count": null,
   "id": "d3195282",
   "metadata": {},
   "outputs": [],
   "source": [
    "import spark.implicits._\n",
    "\n",
    "val path = \"/data/informatica/shared/babynames/births-with-visitor-data.json\"\n",
    "val babydf1 = spark.read.option(\"multiline\",\"true\").json(path)\n",
    "//babydf1.printSchema()\n",
    "//babydf1.show()\n",
    "babydf1.createOrReplaceTempView(\"babyname1\")"
   ]
  },
  {
   "cell_type": "code",
   "execution_count": null,
   "id": "bb4672b8",
   "metadata": {},
   "outputs": [],
   "source": [
    "//xml='<?xml version=\"1.0\" encoding=\"utf-8\"?> <visitors> <visitor id=\"9615\" age=\"68\" sex=\"F\" /> <visitor id=\"1882\" age=\"34\" sex=\"M\" /> <visitor id=\"5987\" age=\"23\" sex=\"M\" /> </visitors>'\n",
    "spark.sql(\"select id, visitors as id_squared from babyname1\").show()\n",
    "//df = spark.createDataFrame([('1',xml)],['id','visitors'])\n",
    "//df.show()"
   ]
  },
  {
   "cell_type": "code",
   "execution_count": null,
   "id": "28bdd327",
   "metadata": {},
   "outputs": [],
   "source": []
  }
 ],
 "metadata": {
  "kernelspec": {
   "display_name": "spylon-kernel",
   "language": "scala",
   "name": "spylon-kernel"
  },
  "language_info": {
   "codemirror_mode": "text/x-scala",
   "file_extension": ".scala",
   "help_links": [
    {
     "text": "MetaKernel Magics",
     "url": "https://metakernel.readthedocs.io/en/latest/source/README.html"
    }
   ],
   "mimetype": "text/x-scala",
   "name": "scala",
   "pygments_lexer": "scala",
   "version": "0.4.1"
  }
 },
 "nbformat": 4,
 "nbformat_minor": 5
}
