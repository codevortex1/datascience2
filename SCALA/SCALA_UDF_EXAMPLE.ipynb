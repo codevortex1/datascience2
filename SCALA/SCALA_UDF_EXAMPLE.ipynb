{
 "cells": [
  {
   "cell_type": "markdown",
   "id": "5027f22f",
   "metadata": {},
   "source": [
    "https://spark.apache.org/docs/latest/sql-ref-functions-udf-scalar.html"
   ]
  },
  {
   "cell_type": "code",
   "execution_count": null,
   "id": "5a957684",
   "metadata": {},
   "outputs": [],
   "source": [
    "val plusOne = udf((x: Int) => x + 1)\n",
    "spark.udf.register(\"plusOne\", plusOne)\n",
    "spark.sql(\"SELECT plusOne(5) as plusOne\").show()"
   ]
  },
  {
   "cell_type": "code",
   "execution_count": null,
   "id": "1b910cf2",
   "metadata": {},
   "outputs": [],
   "source": [
    "val plusOne = spark.udf.register(\"plusOne\", (x: Int) => x + 1)\n",
    "spark.sql(\"SELECT plusOne(1) as plusOne\").show"
   ]
  },
  {
   "cell_type": "code",
   "execution_count": null,
   "id": "fe572852",
   "metadata": {},
   "outputs": [],
   "source": [
    "spark.udf.register(\"oneArgFilter\", (n: Int) => { n > 5 })\n",
    "spark.range(1, 10).createOrReplaceTempView(\"test\")\n",
    "spark.sql(\"SELECT * FROM test WHERE oneArgFilter(id)\").show(2)"
   ]
  },
  {
   "cell_type": "code",
   "execution_count": null,
   "id": "c01970df",
   "metadata": {},
   "outputs": [],
   "source": []
  }
 ],
 "metadata": {
  "kernelspec": {
   "display_name": "spylon-kernel",
   "language": "scala",
   "name": "spylon-kernel"
  },
  "language_info": {
   "codemirror_mode": "text/x-scala",
   "file_extension": ".scala",
   "help_links": [
    {
     "text": "MetaKernel Magics",
     "url": "https://metakernel.readthedocs.io/en/latest/source/README.html"
    }
   ],
   "mimetype": "text/x-scala",
   "name": "scala",
   "pygments_lexer": "scala",
   "version": "0.4.1"
  }
 },
 "nbformat": 4,
 "nbformat_minor": 5
}
