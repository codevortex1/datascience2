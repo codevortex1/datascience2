{
 "cells": [
  {
   "cell_type": "markdown",
   "id": "5027f22f",
   "metadata": {},
   "source": [
    "https://spark.apache.org/docs/latest/sql-ref-functions-udf-scalar.html"
   ]
  },
  {
   "cell_type": "code",
   "execution_count": null,
   "id": "5a957684",
   "metadata": {},
   "outputs": [],
   "source": [
    "val plusOne = udf((x: Int) => x + 1)\n",
    "spark.udf.register(\"plusOne\", plusOne)\n",
    "spark.sql(\"SELECT plusOne(5) as plusOne\").show()"
   ]
  },
  {
   "cell_type": "code",
   "execution_count": 1,
   "id": "1b910cf2",
   "metadata": {},
   "outputs": [
    {
     "data": {
      "text/plain": [
       "Intitializing Scala interpreter ..."
      ]
     },
     "metadata": {},
     "output_type": "display_data"
    },
    {
     "data": {
      "text/plain": [
       "Spark Web UI available at http://edx.informatica.com:4042\n",
       "SparkContext available as 'sc' (version = 3.2.1, master = local[*], app id = local-1651444483988)\n",
       "SparkSession available as 'spark'\n"
      ]
     },
     "metadata": {},
     "output_type": "display_data"
    },
    {
     "name": "stdout",
     "output_type": "stream",
     "text": [
      "+-------+\n",
      "|plusOne|\n",
      "+-------+\n",
      "|      2|\n",
      "+-------+\n",
      "\n"
     ]
    },
    {
     "data": {
      "text/plain": [
       "plusOne: org.apache.spark.sql.expressions.UserDefinedFunction = SparkUserDefinedFunction($Lambda$1963/1310035978@394e44ab,IntegerType,List(Some(class[value[0]: int])),Some(class[value[0]: int]),Some(plusOne),false,true)\n"
      ]
     },
     "execution_count": 1,
     "metadata": {},
     "output_type": "execute_result"
    }
   ],
   "source": [
    "val plusOne = spark.udf.register(\"plusOne\", (x: Int) => x + 1)\n",
    "spark.sql(\"SELECT plusOne(1) as plusOne\").show"
   ]
  },
  {
   "cell_type": "code",
   "execution_count": null,
   "id": "fe572852",
   "metadata": {},
   "outputs": [],
   "source": [
    "spark.udf.register(\"oneArgFilter\", (n: Int) => { n > 5 })\n",
    "spark.range(1, 10).createOrReplaceTempView(\"test\")\n",
    "spark.sql(\"SELECT * FROM test WHERE oneArgFilter(id)\").show(2)"
   ]
  },
  {
   "cell_type": "code",
   "execution_count": null,
   "id": "c01970df",
   "metadata": {},
   "outputs": [],
   "source": []
  }
 ],
 "metadata": {
  "kernelspec": {
   "display_name": "spylon-kernel",
   "language": "scala",
   "name": "spylon-kernel"
  },
  "language_info": {
   "codemirror_mode": "text/x-scala",
   "file_extension": ".scala",
   "help_links": [
    {
     "text": "MetaKernel Magics",
     "url": "https://metakernel.readthedocs.io/en/latest/source/README.html"
    }
   ],
   "mimetype": "text/x-scala",
   "name": "scala",
   "pygments_lexer": "scala",
   "version": "0.4.1"
  }
 },
 "nbformat": 4,
 "nbformat_minor": 5
}
