{
 "cells": [
  {
   "cell_type": "markdown",
   "id": "1a3b40f2-f236-4f1a-ad18-68848056f114",
   "metadata": {},
   "source": [
    "Create Dataset examples"
   ]
  },
  {
   "cell_type": "code",
   "execution_count": 4,
   "id": "f6692814-7971-4b12-8683-84b3b9039cdc",
   "metadata": {},
   "outputs": [
    {
     "name": "stdout",
     "output_type": "stream",
     "text": [
      "+-----+\n",
      "|value|\n",
      "+-----+\n",
      "|    1|\n",
      "|    2|\n",
      "+-----+\n",
      "only showing top 2 rows\n",
      "\n"
     ]
    },
    {
     "data": {
      "text/plain": [
       "numseq: Seq[Int] = List(1, 2, 3, 4, 5)\n",
       "numds: org.apache.spark.sql.Dataset[Int] = [value: int]\n"
      ]
     },
     "execution_count": 4,
     "metadata": {},
     "output_type": "execute_result"
    }
   ],
   "source": [
    "val numseq = Seq(1,2,3,4,5)\n",
    "val numds = numseq.toDS()\n",
    "numds.show(2)"
   ]
  },
  {
   "cell_type": "code",
   "execution_count": 9,
   "id": "93f34eb6-0706-4a1a-98f0-788b183082ef",
   "metadata": {},
   "outputs": [
    {
     "name": "stdout",
     "output_type": "stream",
     "text": [
      "+---+-----+------+\n",
      "| id| name|deptno|\n",
      "+---+-----+------+\n",
      "|  1| PAUL|    10|\n",
      "|  2|LAURA|    10|\n",
      "|  3|  SAM|    20|\n",
      "|  4|  JAY|    20|\n",
      "|  5| KATE|    30|\n",
      "|  6|  JOE|    30|\n",
      "+---+-----+------+\n",
      "\n"
     ]
    },
    {
     "data": {
      "text/plain": [
       "defined class emp\n",
       "empseq: Seq[emp] = List(emp(1,PAUL,10), emp(2,LAURA,10), emp(3,SAM,20), emp(4,JAY,20), emp(5,KATE,30), emp(6,JOE,30))\n",
       "empds: org.apache.spark.sql.Dataset[emp] = [id: int, name: string ... 1 more field]\n"
      ]
     },
     "execution_count": 9,
     "metadata": {},
     "output_type": "execute_result"
    }
   ],
   "source": [
    "case class emp(id:Int , name:String,deptno:Int)\n",
    "val empseq = Seq(emp(1,\"PAUL\",10),emp(2,\"LAURA\",10),emp(3,\"SAM\",20),emp(4,\"JAY\",20),emp(5,\"KATE\",30),emp(6,\"JOE\",30))\n",
    "val empds = empseq.toDS()\n",
    "empds.show()\n"
   ]
  },
  {
   "cell_type": "code",
   "execution_count": null,
   "id": "b54fb274-87fe-4617-b8b1-faa53dac9abd",
   "metadata": {},
   "outputs": [],
   "source": []
  }
 ],
 "metadata": {
  "kernelspec": {
   "display_name": "spylon-kernel",
   "language": "scala",
   "name": "spylon-kernel"
  },
  "language_info": {
   "codemirror_mode": "text/x-scala",
   "file_extension": ".scala",
   "help_links": [
    {
     "text": "MetaKernel Magics",
     "url": "https://metakernel.readthedocs.io/en/latest/source/README.html"
    }
   ],
   "mimetype": "text/x-scala",
   "name": "scala",
   "pygments_lexer": "scala",
   "version": "0.4.1"
  }
 },
 "nbformat": 4,
 "nbformat_minor": 5
}
