{
 "cells": [
  {
   "cell_type": "markdown",
   "id": "997ab299-7db2-4472-8ce6-a0f9c7499128",
   "metadata": {},
   "source": [
    "###Read csv file using scala . Print schema and Print first 2 records"
   ]
  },
  {
   "cell_type": "code",
   "execution_count": null,
   "id": "c38a274b-5c69-411b-b7cf-1c7b82d0f402",
   "metadata": {},
   "outputs": [],
   "source": [
    "val df1 = spark.read.options(Map(\"inferSchema\"->\"true\",\"delimiter\"->\",\",\"header\"->\"true\"))\n",
    ".csv(\"/data/informatica/shared/filghtontimedata/allyears.csv\")\n",
    "df1.printSchema()\n",
    "df1.show(2)\n",
    "df1.createOrReplaceTempView(\"flightarrivaldata\") "
   ]
  },
  {
   "cell_type": "code",
   "execution_count": null,
   "id": "39b1bf4a-6297-41b7-9457-f5d40b4c9277",
   "metadata": {},
   "outputs": [],
   "source": [
    "df1.count()"
   ]
  },
  {
   "cell_type": "code",
   "execution_count": null,
   "id": "353cf4ed-f942-406e-abf6-9875faa868a2",
   "metadata": {},
   "outputs": [],
   "source": [
    "spark.sql(\"select UniqueCarrier,FlightNum,to_timestamp(concat(Year,LPAD(Month,2,'0'),LPAD(DayofMonth,2,'0'),LPAD(CRSDepTime,4,'0')),'yyyyMMddHHmm') as CRSDepTime,to_timestamp(concat(Year,LPAD(Month,2,'0'),LPAD(DayofMonth,2,'0'),LPAD(DepTime,4,'0')),'yyyyMMddHHmm') as DepTime from flightarrivaldata\").show(2,false)\n"
   ]
  },
  {
   "cell_type": "code",
   "execution_count": null,
   "id": "f867188d-4077-472b-bd10-54924b1d62d2",
   "metadata": {},
   "outputs": [],
   "source": []
  }
 ],
 "metadata": {
  "kernelspec": {
   "display_name": "spylon-kernel",
   "language": "scala",
   "name": "spylon-kernel"
  },
  "language_info": {
   "codemirror_mode": "text/x-scala",
   "file_extension": ".scala",
   "help_links": [
    {
     "text": "MetaKernel Magics",
     "url": "https://metakernel.readthedocs.io/en/latest/source/README.html"
    }
   ],
   "mimetype": "text/x-scala",
   "name": "scala",
   "pygments_lexer": "scala",
   "version": "0.4.1"
  }
 },
 "nbformat": 4,
 "nbformat_minor": 5
}
