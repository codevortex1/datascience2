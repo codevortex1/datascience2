{
 "cells": [
  {
   "cell_type": "code",
   "execution_count": null,
   "id": "d049c324-5fdf-40ee-914e-26bb6ed61da6",
   "metadata": {},
   "outputs": [],
   "source": [
    "###Read csv file using scala . Print schema and Print first 2 records"
   ]
  },
  {
   "cell_type": "code",
   "execution_count": 9,
   "id": "f58d364c",
   "metadata": {
    "scrolled": true
   },
   "outputs": [
    {
     "name": "stdout",
     "output_type": "stream",
     "text": [
      "root\n",
      " |-- Year: string (nullable = true)\n",
      " |-- Month: integer (nullable = true)\n",
      " |-- DayofMonth: integer (nullable = true)\n",
      " |-- DayOfWeek: integer (nullable = true)\n",
      " |-- DepTime: string (nullable = true)\n",
      " |-- CRSDepTime: integer (nullable = true)\n",
      " |-- ArrTime: string (nullable = true)\n",
      " |-- CRSArrTime: integer (nullable = true)\n",
      " |-- UniqueCarrier: string (nullable = true)\n",
      " |-- FlightNum: integer (nullable = true)\n",
      " |-- TailNum: string (nullable = true)\n",
      " |-- ActualElapsedTime: string (nullable = true)\n",
      " |-- CRSElapsedTime: integer (nullable = true)\n",
      " |-- AirTime: string (nullable = true)\n",
      " |-- ArrDelay: string (nullable = true)\n",
      " |-- DepDelay: string (nullable = true)\n",
      " |-- Origin: string (nullable = true)\n",
      " |-- Dest: string (nullable = true)\n",
      " |-- Distance: integer (nullable = true)\n",
      " |-- TaxiIn: string (nullable = true)\n",
      " |-- TaxiOut: string (nullable = true)\n",
      " |-- Cancelled: integer (nullable = true)\n",
      " |-- CancellationCode: string (nullable = true)\n",
      " |-- Diverted: integer (nullable = true)\n",
      " |-- CarrierDelay: string (nullable = true)\n",
      " |-- WeatherDelay: string (nullable = true)\n",
      " |-- NASDelay: string (nullable = true)\n",
      " |-- SecurityDelay: string (nullable = true)\n",
      " |-- LateAircraftDelay: string (nullable = true)\n",
      " |-- IsArrDelayed: string (nullable = true)\n",
      " |-- IsDepDelayed: string (nullable = true)\n",
      "\n",
      "+----+-----+----------+---------+-------+----------+-------+----------+-------------+---------+-------+-----------------+--------------+-------+--------+--------+------+----+--------+------+-------+---------+----------------+--------+------------+------------+--------+-------------+-----------------+------------+------------+\n",
      "|Year|Month|DayofMonth|DayOfWeek|DepTime|CRSDepTime|ArrTime|CRSArrTime|UniqueCarrier|FlightNum|TailNum|ActualElapsedTime|CRSElapsedTime|AirTime|ArrDelay|DepDelay|Origin|Dest|Distance|TaxiIn|TaxiOut|Cancelled|CancellationCode|Diverted|CarrierDelay|WeatherDelay|NASDelay|SecurityDelay|LateAircraftDelay|IsArrDelayed|IsDepDelayed|\n",
      "+----+-----+----------+---------+-------+----------+-------+----------+-------------+---------+-------+-----------------+--------------+-------+--------+--------+------+----+--------+------+-------+---------+----------------+--------+------------+------------+--------+-------------+-----------------+------------+------------+\n",
      "|1987|   10|        14|        3|    741|       730|    912|       849|           PS|     1451|     NA|               91|            79|     NA|      23|      11|   SAN| SFO|     447|    NA|     NA|        0|              NA|       0|          NA|          NA|      NA|           NA|               NA|         YES|         YES|\n",
      "|1987|   10|        15|        4|    729|       730|    903|       849|           PS|     1451|     NA|               94|            79|     NA|      14|      -1|   SAN| SFO|     447|    NA|     NA|        0|              NA|       0|          NA|          NA|      NA|           NA|               NA|         YES|          NO|\n",
      "+----+-----+----------+---------+-------+----------+-------+----------+-------------+---------+-------+-----------------+--------------+-------+--------+--------+------+----+--------+------+-------+---------+----------------+--------+------------+------------+--------+-------------+-----------------+------------+------------+\n",
      "only showing top 2 rows\n",
      "\n"
     ]
    },
    {
     "data": {
      "text/plain": [
       "df1: org.apache.spark.sql.DataFrame = [Year: string, Month: int ... 29 more fields]\n"
      ]
     },
     "execution_count": 9,
     "metadata": {},
     "output_type": "execute_result"
    }
   ],
   "source": [
    "val df1 = spark.read.options(Map(\"inferSchema\"->\"true\",\"delimiter\"->\",\",\"header\"->\"true\"))\n",
    ".csv(\"/data/informatica/shared/filghtontimedata/plane_data.txt\")\n",
    "df1.printSchema()\n",
    "df1.show(2)\n",
    "df1.createOrReplaceTempView(\"flightarrivaldata\")"
   ]
  },
  {
   "cell_type": "markdown",
   "id": "04e2ff30",
   "metadata": {},
   "source": [
    "###Read csv file using scala . group by column Airline--> sum a column-->Order by column Airline"
   ]
  },
  {
   "cell_type": "code",
   "execution_count": null,
   "id": "594a6cd7",
   "metadata": {},
   "outputs": [],
   "source": [
    "val df2 = spark.read.options(Map(\"inferSchema\"->\"true\",\"delimiter\"->\",\",\"header\"->\"true\"))\n",
    ".csv(\"/data/informatica/shared/FleetData/FleetData.csv\")\n",
    "//df2.printSchema()\n",
    "//df2.groupBy(\"Airline\").sum(\"Total\").orderBy(\"Airline\").limit(1).show(false)"
   ]
  },
  {
   "cell_type": "code",
   "execution_count": null,
   "id": "e3b091b7-6d9d-4a57-b6d4-5ea2142ab8fb",
   "metadata": {},
   "outputs": [],
   "source": [
    "df2.createOrReplaceTempView(\"flightdata\")\n",
    "spark.sql(\"select * from flightdata\").show(9)\n"
   ]
  },
  {
   "cell_type": "code",
   "execution_count": null,
   "id": "c447724f-bf74-4edc-a9c1-11743c513687",
   "metadata": {},
   "outputs": [],
   "source": [
    "spark.sql(\"select Airline,sum(current) as sum_current from flightdata group by Airline order by 1\").show(false)"
   ]
  },
  {
   "cell_type": "code",
   "execution_count": 12,
   "id": "23a337a4-9adb-421b-a464-f339512e3d7a",
   "metadata": {},
   "outputs": [
    {
     "name": "stdout",
     "output_type": "stream",
     "text": [
      "+-------------+---------+----+-----+----------+-------+----------+-----------+\n",
      "|UniqueCarrier|FlightNum|Year|Month|DayofMonth|DepTime|CRSDepTime|concat     |\n",
      "+-------------+---------+----+-----+----------+-------+----------+-----------+\n",
      "|PS           |1451     |1987|10   |14        |741    |730       |19871014741|\n",
      "|PS           |1451     |1987|10   |15        |729    |730       |19871015729|\n",
      "+-------------+---------+----+-----+----------+-------+----------+-----------+\n",
      "only showing top 2 rows\n",
      "\n"
     ]
    }
   ],
   "source": [
    "spark.sql(\"select UniqueCarrier,FlightNum,Year,Month,DayofMonth,DepTime,CRSDepTime,concat(Year,Month,DayofMonth,DepTime) as concat from flightarrivaldata\").show(2,false)"
   ]
  },
  {
   "cell_type": "code",
   "execution_count": null,
   "id": "f81c3e09-9cf2-4554-8c84-a375279d5ac9",
   "metadata": {},
   "outputs": [],
   "source": []
  }
 ],
 "metadata": {
  "kernelspec": {
   "display_name": "spylon-kernel",
   "language": "scala",
   "name": "spylon-kernel"
  },
  "language_info": {
   "codemirror_mode": "text/x-scala",
   "file_extension": ".scala",
   "help_links": [
    {
     "text": "MetaKernel Magics",
     "url": "https://metakernel.readthedocs.io/en/latest/source/README.html"
    }
   ],
   "mimetype": "text/x-scala",
   "name": "scala",
   "pygments_lexer": "scala",
   "version": "0.4.1"
  }
 },
 "nbformat": 4,
 "nbformat_minor": 5
}
