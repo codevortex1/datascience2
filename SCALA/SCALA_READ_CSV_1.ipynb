{
 "cells": [
  {
   "cell_type": "code",
   "execution_count": null,
   "id": "d049c324-5fdf-40ee-914e-26bb6ed61da6",
   "metadata": {},
   "outputs": [],
   "source": [
    "###Read csv file using scala . Print schema and Print first 2 records"
   ]
  },
  {
   "cell_type": "code",
   "execution_count": null,
   "id": "f58d364c",
   "metadata": {
    "scrolled": true
   },
   "outputs": [],
   "source": [
    "val df1 = spark.read.options(Map(\"inferSchema\"->\"true\",\"delimiter\"->\",\",\"header\"->\"true\"))\n",
    ".csv(\"/data/informatica/shared/filghtontimedata/plane_data.txt\")\n",
    "//df1.printSchema()\n",
    "df1.show(7)"
   ]
  },
  {
   "cell_type": "markdown",
   "id": "04e2ff30",
   "metadata": {},
   "source": [
    "###Read csv file using scala . group by column Airline--> sum a column-->Order by column Airline"
   ]
  },
  {
   "cell_type": "code",
   "execution_count": 2,
   "id": "594a6cd7",
   "metadata": {},
   "outputs": [
    {
     "data": {
      "text/plain": [
       "df2: org.apache.spark.sql.DataFrame = [Parent Airline: string, Airline: string ... 9 more fields]\n"
      ]
     },
     "execution_count": 2,
     "metadata": {},
     "output_type": "execute_result"
    }
   ],
   "source": [
    "val df2 = spark.read.options(Map(\"inferSchema\"->\"true\",\"delimiter\"->\",\",\"header\"->\"true\"))\n",
    ".csv(\"/data/informatica/shared/FleetData/FleetData.csv\")\n",
    "//df2.printSchema()\n",
    "//df2.groupBy(\"Airline\").sum(\"Total\").orderBy(\"Airline\").limit(1).show(false)"
   ]
  },
  {
   "cell_type": "code",
   "execution_count": 3,
   "id": "e3b091b7-6d9d-4a57-b6d4-5ea2142ab8fb",
   "metadata": {},
   "outputs": [
    {
     "name": "stdout",
     "output_type": "stream",
     "text": [
      "+---------------+---------------+--------------------+-------+------+--------+-----+------+---------+--------------------+-----------+\n",
      "| Parent Airline|        Airline|       Aircraft Type|Current|Future|Historic|Total|Orders|Unit Cost|Total Cost (Current)|Average Age|\n",
      "+---------------+---------------+--------------------+-------+------+--------+-----+------+---------+--------------------+-----------+\n",
      "|Aegean Airlines|Aegean Airlines|         Airbus A319|      1|  null|       3|    4|  null|      $90|                 $90|       11.6|\n",
      "|Aegean Airlines|    Olympic Air|         Airbus A319|   null|  null|       8|    8|  null|      $90|                  $0|       null|\n",
      "|Aegean Airlines|Aegean Airlines|         Airbus A320|     38|  null|       3|   41|  null|      $98|              $3,724|        7.5|\n",
      "|Aegean Airlines|    Olympic Air|         Airbus A320|   null|  null|       9|    9|  null|      $98|                  $0|       null|\n",
      "|Aegean Airlines|Aegean Airlines|         Airbus A321|      8|  null|    null|    8|  null|     $115|                $919|       10.3|\n",
      "|Aegean Airlines|    Olympic Air|           ATR 42/72|      2|  null|    null|    2|  null|      $22|                 $44|        2.4|\n",
      "|Aegean Airlines|Aegean Airlines|           ATR 42/72|   null|  null|       6|    6|  null|      $22|                  $0|       null|\n",
      "|Aegean Airlines|Aegean Airlines|          Boeing 737|   null|  null|      17|   17|  null|      $74|                  $0|       null|\n",
      "|Aegean Airlines|Aegean Airlines|British Aerospace...|   null|  null|       6|    6|  null|      $14|                  $0|       null|\n",
      "+---------------+---------------+--------------------+-------+------+--------+-----+------+---------+--------------------+-----------+\n",
      "only showing top 9 rows\n",
      "\n"
     ]
    }
   ],
   "source": [
    "df2.createOrReplaceTempView(\"flightdata\")\n",
    "spark.sql(\"select * from flightdata\").show(9)\n"
   ]
  },
  {
   "cell_type": "code",
   "execution_count": null,
   "id": "c447724f-bf74-4edc-a9c1-11743c513687",
   "metadata": {},
   "outputs": [],
   "source": [
    "spark.sql(\"select Airline,sum(current) as sum_current from flightdata group by Airline order by 1\").show(false)"
   ]
  },
  {
   "cell_type": "code",
   "execution_count": null,
   "id": "23a337a4-9adb-421b-a464-f339512e3d7a",
   "metadata": {},
   "outputs": [],
   "source": []
  }
 ],
 "metadata": {
  "kernelspec": {
   "display_name": "spylon-kernel",
   "language": "scala",
   "name": "spylon-kernel"
  },
  "language_info": {
   "codemirror_mode": "text/x-scala",
   "file_extension": ".scala",
   "help_links": [
    {
     "text": "MetaKernel Magics",
     "url": "https://metakernel.readthedocs.io/en/latest/source/README.html"
    }
   ],
   "mimetype": "text/x-scala",
   "name": "scala",
   "pygments_lexer": "scala",
   "version": "0.4.1"
  }
 },
 "nbformat": 4,
 "nbformat_minor": 5
}
