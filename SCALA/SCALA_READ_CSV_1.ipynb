{
 "cells": [
  {
   "cell_type": "code",
   "execution_count": null,
   "id": "d049c324-5fdf-40ee-914e-26bb6ed61da6",
   "metadata": {},
   "outputs": [],
   "source": [
    "###Read csv file using scala . Print schema and Print first 2 records"
   ]
  },
  {
   "cell_type": "code",
   "execution_count": null,
   "id": "f58d364c",
   "metadata": {
    "scrolled": true
   },
   "outputs": [],
   "source": [
    "val df1 = spark.read.options(Map(\"inferSchema\"->\"true\",\"delimiter\"->\",\",\"header\"->\"true\"))\n",
    ".csv(\"/data/informatica/shared/filghtontimedata/plane_data.txt\")\n",
    "//df1.printSchema()\n",
    "df1.show(7)"
   ]
  },
  {
   "cell_type": "markdown",
   "id": "04e2ff30",
   "metadata": {},
   "source": [
    "###Read csv file using scala . group by column Airline--> sum a column-->Order by column Airline"
   ]
  },
  {
   "cell_type": "code",
   "execution_count": null,
   "id": "594a6cd7",
   "metadata": {},
   "outputs": [],
   "source": [
    "val df2 = spark.read.options(Map(\"inferSchema\"->\"true\",\"delimiter\"->\",\",\"header\"->\"true\"))\n",
    ".csv(\"/data/informatica/shared/FleetData/FleetData.csv\")\n",
    "//df2.printSchema()\n",
    "//df2.groupBy(\"Airline\").sum(\"Total\").orderBy(\"Airline\").limit(1).show(false)"
   ]
  },
  {
   "cell_type": "code",
   "execution_count": null,
   "id": "e3b091b7-6d9d-4a57-b6d4-5ea2142ab8fb",
   "metadata": {},
   "outputs": [],
   "source": [
    "df2.createOrReplaceTempView(\"flightdata\")\n",
    "spark.sql(\"select * from flightdata\").show(3)\n"
   ]
  },
  {
   "cell_type": "code",
   "execution_count": null,
   "id": "c447724f-bf74-4edc-a9c1-11743c513687",
   "metadata": {},
   "outputs": [],
   "source": [
    "spark.sql(\"select Airline,sum(current) as sum_current from flightdata group by Airline order by 1\").show(false)"
   ]
  },
  {
   "cell_type": "code",
   "execution_count": null,
   "id": "23a337a4-9adb-421b-a464-f339512e3d7a",
   "metadata": {},
   "outputs": [],
   "source": []
  }
 ],
 "metadata": {
  "kernelspec": {
   "display_name": "spylon-kernel",
   "language": "scala",
   "name": "spylon-kernel"
  },
  "language_info": {
   "codemirror_mode": "text/x-scala",
   "file_extension": ".scala",
   "help_links": [
    {
     "text": "MetaKernel Magics",
     "url": "https://metakernel.readthedocs.io/en/latest/source/README.html"
    }
   ],
   "mimetype": "text/x-scala",
   "name": "scala",
   "pygments_lexer": "scala",
   "version": "0.4.1"
  }
 },
 "nbformat": 4,
 "nbformat_minor": 5
}
