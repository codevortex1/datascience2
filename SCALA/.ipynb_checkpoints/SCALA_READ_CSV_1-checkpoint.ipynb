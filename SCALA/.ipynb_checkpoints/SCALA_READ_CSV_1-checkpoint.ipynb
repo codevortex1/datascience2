{
 "cells": [
  {
   "cell_type": "markdown",
   "id": "d656f56f",
   "metadata": {},
   "source": [
    "###Read csv file using scala . Print schema and Print first 2 records"
   ]
  },
  {
   "cell_type": "code",
   "execution_count": null,
   "id": "f58d364c",
   "metadata": {
    "scrolled": true
   },
   "outputs": [],
   "source": [
    "val df1 = spark.read.options(Map(\"inferSchema\"->\"true\",\"delimiter\"->\",\",\"header\"->\"true\"))\n",
    ".csv(\"/data/informatica/shared/filghtontimedata/plane_data.txt\")\n",
    "//df1.printSchema()\n",
    "df1.show(8)"
   ]
  },
  {
   "cell_type": "markdown",
   "id": "04e2ff30",
   "metadata": {},
   "source": [
    "###Read csv file using scala . group by column Airline--> sum a column-->Order by column Airline"
   ]
  },
  {
   "cell_type": "code",
   "execution_count": null,
   "id": "594a6cd7",
   "metadata": {},
   "outputs": [],
   "source": [
    "val df2 = spark.read.options(Map(\"inferSchema\"->\"true\",\"delimiter\"->\",\",\"header\"->\"true\"))\n",
    ".csv(\"/data/informatica/shared/FleetData/FleetData.csv\")\n",
    "df2.groupBy(\"Airline\").sum(\"Total\").orderBy(\"Airline\").limit(1).show(false)"
   ]
  }
 ],
 "metadata": {
  "kernelspec": {
   "display_name": "spylon-kernel",
   "language": "scala",
   "name": "spylon-kernel"
  },
  "language_info": {
   "codemirror_mode": "text/x-scala",
   "file_extension": ".scala",
   "help_links": [
    {
     "text": "MetaKernel Magics",
     "url": "https://metakernel.readthedocs.io/en/latest/source/README.html"
    }
   ],
   "mimetype": "text/x-scala",
   "name": "scala",
   "pygments_lexer": "scala",
   "version": "0.4.1"
  }
 },
 "nbformat": 4,
 "nbformat_minor": 5
}
