{
 "cells": [
  {
   "cell_type": "code",
   "execution_count": null,
   "id": "d049c324-5fdf-40ee-914e-26bb6ed61da6",
   "metadata": {},
   "outputs": [],
   "source": [
    "###Read csv file using scala . Print schema and Print first 2 records"
   ]
  },
  {
   "cell_type": "code",
   "execution_count": null,
   "id": "f58d364c",
   "metadata": {},
   "outputs": [],
   "source": [
    "val df1 = spark.read.options(Map(\"inferSchema\"->\"true\",\"delimiter\"->\",\",\"header\"->\"true\"))\n",
    ".csv(\"/data/informatica/shared/filghtontimedata/plane_data.txt\")\n",
    "df1.printSchema()\n",
    "df1.show(2)\n",
    "df1.createOrReplaceTempView(\"flightarrivaldata\")"
   ]
  },
  {
   "cell_type": "markdown",
   "id": "04e2ff30",
   "metadata": {},
   "source": [
    "###Read csv file using scala . group by column Airline--> sum a column-->Order by column Airline"
   ]
  },
  {
   "cell_type": "code",
   "execution_count": null,
   "id": "594a6cd7",
   "metadata": {},
   "outputs": [],
   "source": [
    "val df2 = spark.read.options(Map(\"inferSchema\"->\"true\",\"delimiter\"->\",\",\"header\"->\"true\"))\n",
    ".csv(\"/data/informatica/shared/FleetData/FleetData.csv\")\n",
    "//df2.printSchema()\n",
    "//df2.groupBy(\"Airline\").sum(\"Total\").orderBy(\"Airline\").limit(1).show(false)"
   ]
  },
  {
   "cell_type": "code",
   "execution_count": 51,
   "id": "e3b091b7-6d9d-4a57-b6d4-5ea2142ab8fb",
   "metadata": {},
   "outputs": [
    {
     "name": "stdout",
     "output_type": "stream",
     "text": [
      "+---------------+---------------+--------------------+-------+------+--------+-----+------+---------+--------------------+-----------+\n",
      "| Parent Airline|        Airline|       Aircraft Type|Current|Future|Historic|Total|Orders|Unit Cost|Total Cost (Current)|Average Age|\n",
      "+---------------+---------------+--------------------+-------+------+--------+-----+------+---------+--------------------+-----------+\n",
      "|Aegean Airlines|Aegean Airlines|         Airbus A319|      1|  null|       3|    4|  null|      $90|                 $90|       11.6|\n",
      "|Aegean Airlines|    Olympic Air|         Airbus A319|   null|  null|       8|    8|  null|      $90|                  $0|       null|\n",
      "|Aegean Airlines|Aegean Airlines|         Airbus A320|     38|  null|       3|   41|  null|      $98|              $3,724|        7.5|\n",
      "|Aegean Airlines|    Olympic Air|         Airbus A320|   null|  null|       9|    9|  null|      $98|                  $0|       null|\n",
      "|Aegean Airlines|Aegean Airlines|         Airbus A321|      8|  null|    null|    8|  null|     $115|                $919|       10.3|\n",
      "|Aegean Airlines|    Olympic Air|           ATR 42/72|      2|  null|    null|    2|  null|      $22|                 $44|        2.4|\n",
      "|Aegean Airlines|Aegean Airlines|           ATR 42/72|   null|  null|       6|    6|  null|      $22|                  $0|       null|\n",
      "|Aegean Airlines|Aegean Airlines|          Boeing 737|   null|  null|      17|   17|  null|      $74|                  $0|       null|\n",
      "|Aegean Airlines|Aegean Airlines|British Aerospace...|   null|  null|       6|    6|  null|      $14|                  $0|       null|\n",
      "+---------------+---------------+--------------------+-------+------+--------+-----+------+---------+--------------------+-----------+\n",
      "only showing top 9 rows\n",
      "\n"
     ]
    }
   ],
   "source": [
    "\n",
    "df2.createOrReplaceTempView(\"flightdata\")\n",
    "spark.sql(\"select * from flightdata\").show(9)\n"
   ]
  },
  {
   "cell_type": "code",
   "execution_count": null,
   "id": "c447724f-bf74-4edc-a9c1-11743c513687",
   "metadata": {},
   "outputs": [],
   "source": [
    "spark.sql(\"select Airline,sum(current) as sum_current from flightdata group by Airline order by 1\").show(false)"
   ]
  },
  {
   "cell_type": "code",
   "execution_count": 53,
   "id": "23a337a4-9adb-421b-a464-f339512e3d7a",
   "metadata": {},
   "outputs": [
    {
     "ename": "<console>",
     "evalue": "24: error: not found: value Year",
     "output_type": "error",
     "traceback": [
      "<console>:24: error: not found: value Year",
      "       df1.withColumn(\"CRSDepTime2\",to_timestamp(concat(Year,LPAD(Month,2,'0'),LPAD(DayofMonth,2,'0'),LPAD(CRSDepTime,4,'0')),\"yyyyMMddHHmm\") as CRSDepTime2).show(2)",
      "                                                        ^",
      "<console>:24: error: not found: value LPAD",
      "       df1.withColumn(\"CRSDepTime2\",to_timestamp(concat(Year,LPAD(Month,2,'0'),LPAD(DayofMonth,2,'0'),LPAD(CRSDepTime,4,'0')),\"yyyyMMddHHmm\") as CRSDepTime2).show(2)",
      "                                                             ^",
      "<console>:24: error: not found: value Month",
      "       df1.withColumn(\"CRSDepTime2\",to_timestamp(concat(Year,LPAD(Month,2,'0'),LPAD(DayofMonth,2,'0'),LPAD(CRSDepTime,4,'0')),\"yyyyMMddHHmm\") as CRSDepTime2).show(2)",
      "                                                                  ^",
      "<console>:24: error: not found: value LPAD",
      "       df1.withColumn(\"CRSDepTime2\",to_timestamp(concat(Year,LPAD(Month,2,'0'),LPAD(DayofMonth,2,'0'),LPAD(CRSDepTime,4,'0')),\"yyyyMMddHHmm\") as CRSDepTime2).show(2)",
      "                                                                               ^",
      "<console>:24: error: not found: value DayofMonth",
      "       df1.withColumn(\"CRSDepTime2\",to_timestamp(concat(Year,LPAD(Month,2,'0'),LPAD(DayofMonth,2,'0'),LPAD(CRSDepTime,4,'0')),\"yyyyMMddHHmm\") as CRSDepTime2).show(2)",
      "                                                                                    ^",
      "<console>:24: error: not found: value LPAD",
      "       df1.withColumn(\"CRSDepTime2\",to_timestamp(concat(Year,LPAD(Month,2,'0'),LPAD(DayofMonth,2,'0'),LPAD(CRSDepTime,4,'0')),\"yyyyMMddHHmm\") as CRSDepTime2).show(2)",
      "                                                                                                      ^",
      "<console>:24: error: not found: value CRSDepTime",
      "       df1.withColumn(\"CRSDepTime2\",to_timestamp(concat(Year,LPAD(Month,2,'0'),LPAD(DayofMonth,2,'0'),LPAD(CRSDepTime,4,'0')),\"yyyyMMddHHmm\") as CRSDepTime2).show(2)",
      "                                                                                                           ^",
      "<console>:24: error: not found: value CRSDepTime2",
      "       df1.withColumn(\"CRSDepTime2\",to_timestamp(concat(Year,LPAD(Month,2,'0'),LPAD(DayofMonth,2,'0'),LPAD(CRSDepTime,4,'0')),\"yyyyMMddHHmm\") as CRSDepTime2).show(2)",
      "                                                                                                                                                 ^",
      ""
     ]
    }
   ],
   "source": [
    "df1.withColumn(\"CRSDepTime2\",to_timestamp(concat(Year,LPAD(Month,2,'0'),LPAD(DayofMonth,2,'0'),LPAD(CRSDepTime,4,'0')),\"yyyyMMddHHmm\") as CRSDepTime2).show(2)\n",
    "//spark.sql(\"select UniqueCarrier,FlightNum,Year,Month,DayofMonth,DepTime,CRSDepTime,TO_DATE(concat(Year,LPAD(Month,2,'0'),LPAD(DayofMonth,2,'0'),LPAD(DepTime,4,'0')),'yyyyMMddHHmm') as DepTime from flightarrivaldata\").show(2,false)\n",
    "spark.sql(\"select UniqueCarrier,FlightNum,to_timestamp(concat(Year,LPAD(Month,2,'0'),LPAD(DayofMonth,2,'0'),LPAD(CRSDepTime,4,'0')),'yyyyMMddHHmm') as CRSDepTime,to_timestamp(concat(Year,LPAD(Month,2,'0'),LPAD(DayofMonth,2,'0'),LPAD(DepTime,4,'0')),'yyyyMMddHHmm') as DepTime from flightarrivaldata\").show(2,false)\n",
    "\n"
   ]
  },
  {
   "cell_type": "code",
   "execution_count": null,
   "id": "f81c3e09-9cf2-4554-8c84-a375279d5ac9",
   "metadata": {},
   "outputs": [],
   "source": []
  }
 ],
 "metadata": {
  "kernelspec": {
   "display_name": "spylon-kernel",
   "language": "scala",
   "name": "spylon-kernel"
  },
  "language_info": {
   "codemirror_mode": "text/x-scala",
   "file_extension": ".scala",
   "help_links": [
    {
     "text": "MetaKernel Magics",
     "url": "https://metakernel.readthedocs.io/en/latest/source/README.html"
    }
   ],
   "mimetype": "text/x-scala",
   "name": "scala",
   "pygments_lexer": "scala",
   "version": "0.4.1"
  }
 },
 "nbformat": 4,
 "nbformat_minor": 5
}
