{
 "cells": [
  {
   "cell_type": "code",
   "execution_count": 13,
   "id": "8b50964b",
   "metadata": {},
   "outputs": [],
   "source": [
    "import pyspark\n",
    "from pyspark import SparkConf ,SparkContext\n",
    "from pyspark.sql import SparkSession ,SQLContext\n",
    "from pyspark.sql.functions import explode , udf, struct\n",
    "\n",
    "conf = pyspark.SparkConf().setAppName('App1').setMaster('local').set(\"spark.executor.cores\", \"4\").set(\"spark.cores.max\", \"4\").set('spark.executor.memory', '6g')\n",
    "sc = pyspark.SparkContext.getOrCreate(conf=conf)\n",
    "sc.setLogLevel('WARN')\n",
    "spark = SparkSession(sc)"
   ]
  },
  {
   "cell_type": "code",
   "execution_count": 14,
   "id": "5a957684",
   "metadata": {},
   "outputs": [
    {
     "name": "stdout",
     "output_type": "stream",
     "text": [
      "+---+---+---+\n",
      "| ID|  A|  B|\n",
      "+---+---+---+\n",
      "|101|  1| 16|\n",
      "+---+---+---+\n",
      "\n",
      "+---+---+---+------+\n",
      "| ID|  A|  B|Result|\n",
      "+---+---+---+------+\n",
      "|101|  1| 16|    17|\n",
      "+---+---+---+------+\n",
      "\n"
     ]
    }
   ],
   "source": [
    "from pyspark.sql.types import IntegerType\n",
    "from pyspark.sql.functions import  explode , udf, struct\n",
    "from pyspark.sql import SparkSession ,SQLContext\n",
    "\n",
    "sum_cols = udf(lambda x: x[0]+x[1], IntegerType())\n",
    "\n",
    "a = spark.createDataFrame([(101, 1, 16)], ['ID', 'A', 'B'])\n",
    "a.show()\n",
    "a.withColumn('Result', sum_cols(struct('A', 'B'))).show()"
   ]
  },
  {
   "cell_type": "code",
   "execution_count": null,
   "id": "1b910cf2",
   "metadata": {},
   "outputs": [],
   "source": []
  }
 ],
 "metadata": {
  "kernelspec": {
   "display_name": "Python 3 (ipykernel)",
   "language": "python",
   "name": "python3"
  },
  "language_info": {
   "codemirror_mode": {
    "name": "ipython",
    "version": 3
   },
   "file_extension": ".py",
   "mimetype": "text/x-python",
   "name": "python",
   "nbconvert_exporter": "python",
   "pygments_lexer": "ipython3",
   "version": "3.9.7"
  }
 },
 "nbformat": 4,
 "nbformat_minor": 5
}
