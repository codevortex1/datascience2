{
 "cells": [
  {
   "cell_type": "code",
   "execution_count": null,
   "id": "1d88ff05",
   "metadata": {},
   "outputs": [],
   "source": [
    "#Find Pyspark "
   ]
  },
  {
   "cell_type": "code",
   "execution_count": null,
   "id": "283fb785",
   "metadata": {},
   "outputs": [],
   "source": [
    "import findspark\n",
    "findspark.init()\n",
    "findspark.find()\n",
    "import pyspark\n",
    "findspark.find()\n"
   ]
  },
  {
   "cell_type": "markdown",
   "id": "b50fd521",
   "metadata": {},
   "source": [
    "#Pyspark open a saprk configuration and execute a pyspark command"
   ]
  },
  {
   "cell_type": "code",
   "execution_count": null,
   "id": "f4bb55ba",
   "metadata": {},
   "outputs": [],
   "source": [
    "import pyspark\n",
    "from pyspark import SparkConf ,SparkContext\n",
    "from pyspark.sql import SparkSession\n",
    "from pyspark.sql.functions import explode\n",
    "\n",
    "conf = pyspark.SparkConf().setAppName('App1').setMaster('local').set(\"spark.executor.cores\", \"4\").set(\"spark.cores.max\", \"4\").set('spark.executor.memory', '6g')\n",
    "sc = pyspark.SparkContext.getOrCreate(conf=conf)\n",
    "sc.setLogLevel('WARN')\n",
    "spark = SparkSession(sc)"
   ]
  },
  {
   "cell_type": "code",
   "execution_count": null,
   "id": "08a4b286",
   "metadata": {},
   "outputs": [],
   "source": [
    "def mod(x):\n",
    "    import numpy as np\n",
    "    return (x, np.mod(x, 2))\n",
    "\n",
    "rdd = sc.parallelize(range(1000)).map(mod).take(10)\n",
    "print (rdd)"
   ]
  },
  {
   "cell_type": "code",
   "execution_count": null,
   "id": "9e0660f9",
   "metadata": {},
   "outputs": [],
   "source": []
  },
  {
   "cell_type": "code",
   "execution_count": null,
   "id": "479f1e06",
   "metadata": {},
   "outputs": [],
   "source": []
  }
 ],
 "metadata": {
  "kernelspec": {
   "display_name": "Python 3 (ipykernel)",
   "language": "python",
   "name": "python3"
  },
  "language_info": {
   "codemirror_mode": {
    "name": "ipython",
    "version": 3
   },
   "file_extension": ".py",
   "mimetype": "text/x-python",
   "name": "python",
   "nbconvert_exporter": "python",
   "pygments_lexer": "ipython3",
   "version": "3.9.7"
  }
 },
 "nbformat": 4,
 "nbformat_minor": 5
}
